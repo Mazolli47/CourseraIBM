{
 "cells": [
  {
   "cell_type": "markdown",
   "metadata": {},
   "source": [
    "# Data Science Tools and Ecosystem"
   ]
  },
  {
   "cell_type": "markdown",
   "metadata": {},
   "source": [
    "### In this notebook, Data Science Tools and Ecosystem are summarized. Bons Estudos"
   ]
  },
  {
   "cell_type": "markdown",
   "metadata": {},
   "source": [
    "As linguagens mais utilizadas são :\n",
    "1. Python \n",
    "2. LUA\n",
    "3. R\n",
    "4. Rust\n",
    "5. Matlab\n",
    "6. C++\n",
    "7. PHP"
   ]
  },
  {
   "cell_type": "markdown",
   "metadata": {},
   "source": [
    "Some of the commonly used libraries used by Data Scientists include:\n",
    "\n",
    "1. ggplot2\n",
    "2. NumPI\n",
    "3. Pandas\n",
    "4. PIMuPDF\n",
    "5. Re\n",
    "6. Lattice\n",
    "7. Leaflet\n",
    "8. Plottly\n"
   ]
  },
  {
   "cell_type": "markdown",
   "metadata": {},
   "source": [
    "| Data Science Tools|\n",
    "|----------------|\n",
    "| Vs Code|\n",
    "|Git|\n",
    "|GitHub|\n",
    "|Jupter|\n",
    "|Anaconda|\n",
    "|Git Lab|\n"
   ]
  },
  {
   "cell_type": "markdown",
   "metadata": {},
   "source": [
    "### Below are a few examples of evaluating arithmetic expressions in Python\n",
    "\n",
    "##### Exemple: \n",
    "##### 2 + 7\n",
    "##### 3*(88-34) "
   ]
  },
  {
   "cell_type": "code",
   "execution_count": 3,
   "metadata": {},
   "outputs": [
    {
     "name": "stdout",
     "output_type": "stream",
     "text": [
      "This a simple arithmetic expression to mutiply then add integers\n",
      "\n",
      "(3*4)+5 =  17\n"
     ]
    },
    {
     "data": {
      "text/plain": [
       "17"
      ]
     },
     "execution_count": 3,
     "metadata": {},
     "output_type": "execute_result"
    }
   ],
   "source": [
    "# This a simple arithmetic expression to mutiply then add integers\\n\n",
    "print(\"This a simple arithmetic expression to mutiply then add integers\\n\") \n",
    "print(\"(3*4)+5 = \", (3*4)+5)\n",
    "(3*4)+5"
   ]
  },
  {
   "cell_type": "code",
   "execution_count": 4,
   "metadata": {},
   "outputs": [
    {
     "data": {
      "text/plain": [
       "3.3333333333333335"
      ]
     },
     "execution_count": 4,
     "metadata": {},
     "output_type": "execute_result"
    }
   ],
   "source": [
    "#   This will convert 200 minutes to hours by diving by 60\n",
    "\n",
    "200/60"
   ]
  },
  {
   "cell_type": "markdown",
   "metadata": {},
   "source": [
    "### In this notebook, Data Science Tools and Ecosystem are summarized. \n",
    "#### As part of the training we will approch exercises types according to chosen objectives \n",
    "** Objectives **\n",
    "- List popular languages for Data Science\n",
    "- Commonly used libraries\n",
    "- evaluating arithmetic expressions in Python\n",
    "- simple arithmetic expression to mutiply then add integers\n",
    "- Data Science Tools\n"
   ]
  },
  {
   "cell_type": "markdown",
   "metadata": {},
   "source": [
    "## Author\n",
    "Mazolli"
   ]
  }
 ],
 "metadata": {
  "kernelspec": {
   "display_name": "Python 3",
   "language": "python",
   "name": "python3"
  },
  "language_info": {
   "codemirror_mode": {
    "name": "ipython",
    "version": 3
   },
   "file_extension": ".py",
   "mimetype": "text/x-python",
   "name": "python",
   "nbconvert_exporter": "python",
   "pygments_lexer": "ipython3",
   "version": "3.11.1"
  }
 },
 "nbformat": 4,
 "nbformat_minor": 2
}
